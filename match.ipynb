{
 "cells": [
  {
   "cell_type": "code",
   "execution_count": 1,
   "metadata": {},
   "outputs": [],
   "source": [
    "import pandas as pd\n",
    "from fuzzywuzzy import process"
   ]
  },
  {
   "cell_type": "code",
   "execution_count": 3,
   "metadata": {},
   "outputs": [],
   "source": [
    "# Load your data\n",
    "mimu_town_data = pd.read_excel('Mimu Town Level.xlsx')\n",
    "not_match_data = pd.read_excel('not match data.xlsx')"
   ]
  },
  {
   "cell_type": "code",
   "execution_count": 4,
   "metadata": {},
   "outputs": [],
   "source": [
    "# Removing the suffix \"Town\" from the \"Town_Name_Eng\" column\n",
    "mimu_town_data['Town_Name_Eng'] = mimu_town_data['Town_Name_Eng'].str.replace(' Town', '', regex=False)\n"
   ]
  },
  {
   "cell_type": "code",
   "execution_count": 5,
   "metadata": {},
   "outputs": [],
   "source": [
    "# Display the first few rows of each file to confirm the changes\n",
    "mimu_town_data_head = mimu_town_data.head()\n",
    "not_match_data_head = not_match_data.head()"
   ]
  },
  {
   "cell_type": "code",
   "execution_count": 6,
   "metadata": {},
   "outputs": [
    {
     "data": {
      "text/plain": [
       "(  SR_Pcode SR_Name_Eng District/SAZ_Pcode District/SAZ_Name_Eng  Tsp_Pcode  \\\n",
       " 0   MMR017  Ayeyarwady         MMR017D006                Pyapon  MMR017024   \n",
       " 1   MMR017  Ayeyarwady         MMR017D005                Maubin  MMR017022   \n",
       " 2   MMR017  Ayeyarwady         MMR017D006                Pyapon  MMR017026   \n",
       " 3   MMR017  Ayeyarwady         MMR017D003             Myaungmya  MMR017015   \n",
       " 4   MMR017  Ayeyarwady         MMR017D002              Hinthada  MMR017008   \n",
       " \n",
       "   Township_Name_Eng    Town_Pcode Town_Name_Eng Town_Name_MMR  Longitude  \\\n",
       " 0            Bogale  MMR017024701        Bogale       ဘိုကလေး   95.39680   \n",
       " 1           Danubyu  MMR017022701       Danubyu        ဓနုဖြူ   95.59583   \n",
       " 2            Dedaye  MMR017026701        Dedaye        ဒေးဒရဲ   95.88512   \n",
       " 3             Einme  MMR017015701         Einme        အိမ်မဲ   95.18050   \n",
       " 4          Hinthada  MMR017008703        Du Yar        ဒူးယား   95.48020   \n",
       " \n",
       "    Latitude  \n",
       " 0  16.29500  \n",
       " 1  17.25468  \n",
       " 2  16.40806  \n",
       " 3  16.89620  \n",
       " 4  17.56160  ,\n",
       "    hideRank          Town         State/Region  2014 Census  1993 Estimate  \\\n",
       " 0         2  Pyin Oo Lwin      Mandalay Region       128783          85712   \n",
       " 1         3         Kalay       Sagaing Region       120506          68259   \n",
       " 2         9           Pyu          Bago Region        63880          32946   \n",
       " 3        13     Kawthaung   Tanintharyi Region        57949          57949   \n",
       " 4        26       Ma-ubin    Ayeyarwady Region        43111          42047   \n",
       " \n",
       "    Change  \n",
       " 0  0.5025  \n",
       " 1  0.7654  \n",
       " 2  0.9389  \n",
       " 3  0.0000  \n",
       " 4  0.0253  )"
      ]
     },
     "execution_count": 6,
     "metadata": {},
     "output_type": "execute_result"
    }
   ],
   "source": [
    "mimu_town_data_head, not_match_data_head"
   ]
  },
  {
   "cell_type": "code",
   "execution_count": 7,
   "metadata": {},
   "outputs": [],
   "source": [
    "# Function to perform fuzzy matching\n",
    "def get_matches(query, choices, limit=3):\n",
    "    return process.extract(query, choices, limit=limit)"
   ]
  },
  {
   "cell_type": "code",
   "execution_count": 8,
   "metadata": {},
   "outputs": [],
   "source": [
    "# Applying fuzzy matching\n",
    "# Assuming we are matching 'Town_Name_Eng' from mimu_town_data with 'Town' from not_match_data\n",
    "results = []\n",
    "for town in mimu_town_data['Town_Name_Eng']:\n",
    "    matches = get_matches(town, not_match_data['Town'])\n",
    "    results.append((town, matches))"
   ]
  },
  {
   "cell_type": "code",
   "execution_count": 9,
   "metadata": {},
   "outputs": [],
   "source": [
    "# Convert the results to a DataFrame for better visualization and analysis\n",
    "results_df = pd.DataFrame(results, columns=['Town_Name_Eng', 'Matches'])\n"
   ]
  },
  {
   "cell_type": "code",
   "execution_count": 10,
   "metadata": {},
   "outputs": [
    {
     "name": "stdout",
     "output_type": "stream",
     "text": [
      "Fuzzy matching completed and results saved to 'fuzzy_matching_results.xlsx'\n"
     ]
    }
   ],
   "source": [
    "# Saving the results to a new Excel file\n",
    "results_df.to_excel('fuzzy_matching_results.xlsx', index=False)\n",
    "\n",
    "print(\"Fuzzy matching completed and results saved to 'fuzzy_matching_results.xlsx'\")"
   ]
  }
 ],
 "metadata": {
  "kernelspec": {
   "display_name": "venv",
   "language": "python",
   "name": "python3"
  },
  "language_info": {
   "codemirror_mode": {
    "name": "ipython",
    "version": 3
   },
   "file_extension": ".py",
   "mimetype": "text/x-python",
   "name": "python",
   "nbconvert_exporter": "python",
   "pygments_lexer": "ipython3",
   "version": "3.11.6"
  }
 },
 "nbformat": 4,
 "nbformat_minor": 2
}
